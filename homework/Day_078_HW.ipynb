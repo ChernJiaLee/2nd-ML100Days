{
 "cells": [
  {
   "cell_type": "markdown",
   "metadata": {},
   "source": [
    "## Work\n",
    "1. 請嘗試將 preproc_x 替換成以每筆資料的 min/max 進行標準化至 -1 ~ 1 間，再進行訓練\n",
    "2. 請嘗試將 mlp 疊更深 (e.g 5~10 層)，進行訓練後觀察 learning curve 的走勢\n",
    "3. (optional) 請改用 GPU 進行訓練 (如果你有 GPU 的話)，比較使用 CPU 與 GPU 的訓練速度"
   ]
  },
  {
   "cell_type": "code",
   "execution_count": 1,
   "metadata": {},
   "outputs": [
    {
     "data": {
      "text/plain": [
       "'\\nYour code here (optional)\\n確認硬體資源\\n'"
      ]
     },
     "execution_count": 1,
     "metadata": {},
     "output_type": "execute_result"
    }
   ],
   "source": [
    "## \n",
    "\"\"\"\n",
    "Your code here (optional)\n",
    "確認硬體資源\n",
    "\"\"\""
   ]
  },
  {
   "cell_type": "code",
   "execution_count": 2,
   "metadata": {},
   "outputs": [
    {
     "name": "stderr",
     "output_type": "stream",
     "text": [
      "Using TensorFlow backend.\n"
     ]
    }
   ],
   "source": [
    "import os\n",
    "import keras\n",
    "\n",
    "# 請嘗試設定 GPU：os.environ\n",
    "os.environ[\"CUDA_VISIBLE_DEVICES\"] = \"0\""
   ]
  },
  {
   "cell_type": "code",
   "execution_count": 3,
   "metadata": {},
   "outputs": [],
   "source": [
    "train, test = keras.datasets.cifar10.load_data()"
   ]
  },
  {
   "cell_type": "code",
   "execution_count": 4,
   "metadata": {},
   "outputs": [],
   "source": [
    "## 資料前處理\n",
    "\"\"\"\n",
    "Your code here\n",
    "\"\"\"\n",
    "def preproc_x(x, flatten=True):\n",
    "    x=x/255\n",
    "    if flatten:\n",
    "        x=x.reshape((len(x),-1))\n",
    "    return x\n",
    "\n",
    "def preproc_y(y,num_classes=10):\n",
    "    if y.shape[-1]==1:\n",
    "        y=keras.utils.to_categorical(y,num_classes)\n",
    "    return y\n"
   ]
  },
  {
   "cell_type": "code",
   "execution_count": 5,
   "metadata": {},
   "outputs": [],
   "source": [
    "x_train, y_train = train\n",
    "x_test, y_test = test\n",
    "\n",
    "# Preproc the inputs\n",
    "x_train = preproc_x(x_train)\n",
    "x_test = preproc_x(x_test)\n",
    "\n",
    "# Preprc the outputs\n",
    "y_train = preproc_y(y_train)\n",
    "y_test = preproc_y(y_test)"
   ]
  },
  {
   "cell_type": "code",
   "execution_count": 6,
   "metadata": {},
   "outputs": [
    {
     "name": "stderr",
     "output_type": "stream",
     "text": [
      "WARNING: Logging before flag parsing goes to stderr.\n",
      "W0721 19:06:07.025515 4468286912 deprecation_wrapper.py:119] From /anaconda3/lib/python3.7/site-packages/keras/backend/tensorflow_backend.py:74: The name tf.get_default_graph is deprecated. Please use tf.compat.v1.get_default_graph instead.\n",
      "\n",
      "W0721 19:06:07.046832 4468286912 deprecation_wrapper.py:119] From /anaconda3/lib/python3.7/site-packages/keras/backend/tensorflow_backend.py:517: The name tf.placeholder is deprecated. Please use tf.compat.v1.placeholder instead.\n",
      "\n",
      "W0721 19:06:07.049528 4468286912 deprecation_wrapper.py:119] From /anaconda3/lib/python3.7/site-packages/keras/backend/tensorflow_backend.py:4138: The name tf.random_uniform is deprecated. Please use tf.random.uniform instead.\n",
      "\n"
     ]
    },
    {
     "name": "stdout",
     "output_type": "stream",
     "text": [
      "_________________________________________________________________\n",
      "Layer (type)                 Output Shape              Param #   \n",
      "=================================================================\n",
      "input_1 (InputLayer)         (None, 3072)              0         \n",
      "_________________________________________________________________\n",
      "hidden_layer1 (Dense)        (None, 512)               1573376   \n",
      "_________________________________________________________________\n",
      "hidden_layer2 (Dense)        (None, 256)               131328    \n",
      "_________________________________________________________________\n",
      "hidden_layer3 (Dense)        (None, 128)               32896     \n",
      "_________________________________________________________________\n",
      "output (Dense)               (None, 10)                1290      \n",
      "=================================================================\n",
      "Total params: 1,738,890\n",
      "Trainable params: 1,738,890\n",
      "Non-trainable params: 0\n",
      "_________________________________________________________________\n"
     ]
    }
   ],
   "source": [
    "\"\"\"Code Here\n",
    "建立你的神經網路\n",
    "\"\"\"\n",
    "def build_mlp(input_shape, output_units=10, num_neurons=[512, 256, 128]):\n",
    "    input_layer = keras.layers.Input(input_shape)\n",
    "    \n",
    "    for i, n_units in enumerate(num_neurons):\n",
    "        if i == 0:\n",
    "            x = keras.layers.Dense(units=n_units, activation=\"relu\", name=\"hidden_layer\"+str(i+1))(input_layer)\n",
    "        else:\n",
    "            x = keras.layers.Dense(units=n_units, activation=\"relu\", name=\"hidden_layer\"+str(i+1))(x)\n",
    "    \n",
    "    out = keras.layers.Dense(units=output_units, activation=\"softmax\", name=\"output\")(x)\n",
    "    \n",
    "    model = keras.models.Model(inputs=[input_layer], outputs=[out])\n",
    "    return model\n",
    "\n",
    "\n",
    "model=build_mlp(input_shape=x_train.shape[1:])\n",
    "model.summary()"
   ]
  },
  {
   "cell_type": "code",
   "execution_count": 7,
   "metadata": {},
   "outputs": [],
   "source": [
    "## 超參數設定\n",
    "LEARNING_RATE = 0.001\n",
    "EPOCHS = 100\n",
    "BATCH_SIZE = 256"
   ]
  },
  {
   "cell_type": "code",
   "execution_count": 8,
   "metadata": {},
   "outputs": [
    {
     "name": "stderr",
     "output_type": "stream",
     "text": [
      "W0721 19:08:51.236829 4468286912 deprecation_wrapper.py:119] From /anaconda3/lib/python3.7/site-packages/keras/optimizers.py:790: The name tf.train.Optimizer is deprecated. Please use tf.compat.v1.train.Optimizer instead.\n",
      "\n",
      "W0721 19:08:51.248745 4468286912 deprecation_wrapper.py:119] From /anaconda3/lib/python3.7/site-packages/keras/backend/tensorflow_backend.py:3295: The name tf.log is deprecated. Please use tf.math.log instead.\n",
      "\n"
     ]
    }
   ],
   "source": [
    "optimizer = keras.optimizers.Adam(lr=LEARNING_RATE)\n",
    "model.compile(loss=\"categorical_crossentropy\", metrics=[\"accuracy\"], optimizer=optimizer)"
   ]
  },
  {
   "cell_type": "code",
   "execution_count": 9,
   "metadata": {},
   "outputs": [
    {
     "name": "stderr",
     "output_type": "stream",
     "text": [
      "W0721 19:08:56.247134 4468286912 deprecation.py:323] From /anaconda3/lib/python3.7/site-packages/tensorflow/python/ops/math_grad.py:1250: add_dispatch_support.<locals>.wrapper (from tensorflow.python.ops.array_ops) is deprecated and will be removed in a future version.\n",
      "Instructions for updating:\n",
      "Use tf.where in 2.0, which has the same broadcast rule as np.where\n",
      "W0721 19:08:56.296556 4468286912 deprecation_wrapper.py:119] From /anaconda3/lib/python3.7/site-packages/keras/backend/tensorflow_backend.py:986: The name tf.assign_add is deprecated. Please use tf.compat.v1.assign_add instead.\n",
      "\n"
     ]
    },
    {
     "name": "stdout",
     "output_type": "stream",
     "text": [
      "Train on 50000 samples, validate on 10000 samples\n",
      "Epoch 1/100\n",
      "50000/50000 [==============================] - 6s 117us/step - loss: 1.9099 - acc: 0.3105 - val_loss: 1.7527 - val_acc: 0.3713\n",
      "Epoch 2/100\n",
      "50000/50000 [==============================] - 6s 114us/step - loss: 1.6939 - acc: 0.3932 - val_loss: 1.6020 - val_acc: 0.4302\n",
      "Epoch 3/100\n",
      "50000/50000 [==============================] - 6s 111us/step - loss: 1.6034 - acc: 0.4271 - val_loss: 1.5731 - val_acc: 0.4367\n",
      "Epoch 4/100\n",
      "50000/50000 [==============================] - 6s 115us/step - loss: 1.5390 - acc: 0.4505 - val_loss: 1.5230 - val_acc: 0.4602\n",
      "Epoch 5/100\n",
      "50000/50000 [==============================] - 6s 114us/step - loss: 1.5055 - acc: 0.4615 - val_loss: 1.4858 - val_acc: 0.4728\n",
      "Epoch 6/100\n",
      "50000/50000 [==============================] - 6s 114us/step - loss: 1.4685 - acc: 0.4772 - val_loss: 1.5095 - val_acc: 0.4702\n",
      "Epoch 7/100\n",
      "50000/50000 [==============================] - 6s 116us/step - loss: 1.4218 - acc: 0.4932 - val_loss: 1.4808 - val_acc: 0.4742\n",
      "Epoch 8/100\n",
      "50000/50000 [==============================] - 6s 115us/step - loss: 1.3956 - acc: 0.5027 - val_loss: 1.4645 - val_acc: 0.4846\n",
      "Epoch 9/100\n",
      "50000/50000 [==============================] - 6s 122us/step - loss: 1.3660 - acc: 0.5115 - val_loss: 1.4906 - val_acc: 0.4745\n",
      "Epoch 10/100\n",
      "50000/50000 [==============================] - 6s 117us/step - loss: 1.3386 - acc: 0.5248 - val_loss: 1.4432 - val_acc: 0.4855\n",
      "Epoch 11/100\n",
      "50000/50000 [==============================] - 6s 117us/step - loss: 1.3157 - acc: 0.5298 - val_loss: 1.4312 - val_acc: 0.4868\n",
      "Epoch 12/100\n",
      "50000/50000 [==============================] - 6s 116us/step - loss: 1.2906 - acc: 0.5394 - val_loss: 1.4023 - val_acc: 0.5049\n",
      "Epoch 13/100\n",
      "50000/50000 [==============================] - 6s 119us/step - loss: 1.2707 - acc: 0.5456 - val_loss: 1.3904 - val_acc: 0.5140\n",
      "Epoch 14/100\n",
      "50000/50000 [==============================] - 6s 120us/step - loss: 1.2502 - acc: 0.5537 - val_loss: 1.3746 - val_acc: 0.5108\n",
      "Epoch 15/100\n",
      "50000/50000 [==============================] - 6s 121us/step - loss: 1.2237 - acc: 0.5640 - val_loss: 1.3796 - val_acc: 0.5124\n",
      "Epoch 16/100\n",
      "50000/50000 [==============================] - 6s 121us/step - loss: 1.1965 - acc: 0.5724 - val_loss: 1.4038 - val_acc: 0.5044\n",
      "Epoch 17/100\n",
      "50000/50000 [==============================] - 6s 121us/step - loss: 1.1812 - acc: 0.5793 - val_loss: 1.3527 - val_acc: 0.5236\n",
      "Epoch 18/100\n",
      "50000/50000 [==============================] - 6s 129us/step - loss: 1.1566 - acc: 0.5868 - val_loss: 1.3701 - val_acc: 0.5217\n",
      "Epoch 19/100\n",
      "50000/50000 [==============================] - 6s 123us/step - loss: 1.1374 - acc: 0.5959 - val_loss: 1.3588 - val_acc: 0.5249\n",
      "Epoch 20/100\n",
      "50000/50000 [==============================] - 6s 125us/step - loss: 1.1231 - acc: 0.6003 - val_loss: 1.3926 - val_acc: 0.5133\n",
      "Epoch 21/100\n",
      "50000/50000 [==============================] - 6s 116us/step - loss: 1.1031 - acc: 0.6053 - val_loss: 1.4134 - val_acc: 0.5145\n",
      "Epoch 22/100\n",
      "50000/50000 [==============================] - 6s 117us/step - loss: 1.0808 - acc: 0.6124 - val_loss: 1.4044 - val_acc: 0.5140\n",
      "Epoch 23/100\n",
      "50000/50000 [==============================] - 6s 119us/step - loss: 1.0634 - acc: 0.6209 - val_loss: 1.4204 - val_acc: 0.5210\n",
      "Epoch 24/100\n",
      "50000/50000 [==============================] - 6s 124us/step - loss: 1.0459 - acc: 0.6259 - val_loss: 1.3793 - val_acc: 0.5264\n",
      "Epoch 25/100\n",
      "50000/50000 [==============================] - 6s 130us/step - loss: 1.0352 - acc: 0.6304 - val_loss: 1.4100 - val_acc: 0.5159\n",
      "Epoch 26/100\n",
      "50000/50000 [==============================] - 6s 118us/step - loss: 1.0148 - acc: 0.6354 - val_loss: 1.3937 - val_acc: 0.5215\n",
      "Epoch 27/100\n",
      "50000/50000 [==============================] - 6s 118us/step - loss: 0.9912 - acc: 0.6457 - val_loss: 1.3827 - val_acc: 0.5361\n",
      "Epoch 28/100\n",
      "50000/50000 [==============================] - 6s 118us/step - loss: 0.9661 - acc: 0.6539 - val_loss: 1.4206 - val_acc: 0.5284\n",
      "Epoch 29/100\n",
      "50000/50000 [==============================] - 7s 141us/step - loss: 0.9553 - acc: 0.6571 - val_loss: 1.4374 - val_acc: 0.5254\n",
      "Epoch 30/100\n",
      "50000/50000 [==============================] - 6s 119us/step - loss: 0.9338 - acc: 0.6664 - val_loss: 1.4502 - val_acc: 0.5203\n",
      "Epoch 31/100\n",
      "50000/50000 [==============================] - 6s 121us/step - loss: 0.9181 - acc: 0.6726 - val_loss: 1.4444 - val_acc: 0.5241\n",
      "Epoch 32/100\n",
      "50000/50000 [==============================] - 6s 117us/step - loss: 0.9000 - acc: 0.6771 - val_loss: 1.4476 - val_acc: 0.5279\n",
      "Epoch 33/100\n",
      "50000/50000 [==============================] - 6s 120us/step - loss: 0.8835 - acc: 0.6844 - val_loss: 1.4791 - val_acc: 0.5227\n",
      "Epoch 34/100\n",
      "50000/50000 [==============================] - 6s 128us/step - loss: 0.8773 - acc: 0.6865 - val_loss: 1.4806 - val_acc: 0.5256\n",
      "Epoch 35/100\n",
      "50000/50000 [==============================] - 7s 141us/step - loss: 0.8527 - acc: 0.6958 - val_loss: 1.5276 - val_acc: 0.5190\n",
      "Epoch 36/100\n",
      "50000/50000 [==============================] - 6s 127us/step - loss: 0.8324 - acc: 0.7032 - val_loss: 1.4846 - val_acc: 0.5270\n",
      "Epoch 37/100\n",
      "50000/50000 [==============================] - 7s 132us/step - loss: 0.8219 - acc: 0.7046 - val_loss: 1.5281 - val_acc: 0.5230\n",
      "Epoch 38/100\n",
      "50000/50000 [==============================] - 7s 150us/step - loss: 0.7997 - acc: 0.7129 - val_loss: 1.5631 - val_acc: 0.5160\n",
      "Epoch 39/100\n",
      "50000/50000 [==============================] - 6s 125us/step - loss: 0.7824 - acc: 0.7183 - val_loss: 1.5795 - val_acc: 0.5207\n",
      "Epoch 40/100\n",
      "50000/50000 [==============================] - 6s 122us/step - loss: 0.7633 - acc: 0.7279 - val_loss: 1.6207 - val_acc: 0.5153\n",
      "Epoch 41/100\n",
      "50000/50000 [==============================] - 6s 124us/step - loss: 0.7613 - acc: 0.7288 - val_loss: 1.6315 - val_acc: 0.5130\n",
      "Epoch 42/100\n",
      "50000/50000 [==============================] - 6s 123us/step - loss: 0.7338 - acc: 0.7368 - val_loss: 1.5878 - val_acc: 0.5321\n",
      "Epoch 43/100\n",
      "50000/50000 [==============================] - 8s 159us/step - loss: 0.7188 - acc: 0.7411 - val_loss: 1.7078 - val_acc: 0.5033\n",
      "Epoch 44/100\n",
      "50000/50000 [==============================] - 7s 138us/step - loss: 0.7239 - acc: 0.7399 - val_loss: 1.6678 - val_acc: 0.5198\n",
      "Epoch 45/100\n",
      "50000/50000 [==============================] - 6s 124us/step - loss: 0.6940 - acc: 0.7516 - val_loss: 1.6897 - val_acc: 0.5162\n",
      "Epoch 46/100\n",
      "50000/50000 [==============================] - 6s 128us/step - loss: 0.6858 - acc: 0.7546 - val_loss: 1.7112 - val_acc: 0.5131\n",
      "Epoch 47/100\n",
      "50000/50000 [==============================] - 6s 124us/step - loss: 0.6681 - acc: 0.7607 - val_loss: 1.6947 - val_acc: 0.5199\n",
      "Epoch 48/100\n",
      "50000/50000 [==============================] - 7s 131us/step - loss: 0.6576 - acc: 0.7629 - val_loss: 1.7621 - val_acc: 0.5216\n",
      "Epoch 49/100\n",
      "50000/50000 [==============================] - 6s 128us/step - loss: 0.6419 - acc: 0.7698 - val_loss: 1.7685 - val_acc: 0.5260\n",
      "Epoch 50/100\n",
      "50000/50000 [==============================] - 6s 123us/step - loss: 0.6051 - acc: 0.7839 - val_loss: 1.8096 - val_acc: 0.5135\n",
      "Epoch 51/100\n",
      "50000/50000 [==============================] - 6s 126us/step - loss: 0.6126 - acc: 0.7806 - val_loss: 1.8455 - val_acc: 0.5135\n",
      "Epoch 52/100\n",
      "50000/50000 [==============================] - 6s 124us/step - loss: 0.6027 - acc: 0.7838 - val_loss: 1.8759 - val_acc: 0.5129\n",
      "Epoch 53/100\n",
      "50000/50000 [==============================] - 6s 126us/step - loss: 0.5761 - acc: 0.7919 - val_loss: 1.8634 - val_acc: 0.5198\n",
      "Epoch 54/100\n",
      "50000/50000 [==============================] - 6s 124us/step - loss: 0.5673 - acc: 0.7966 - val_loss: 1.9261 - val_acc: 0.5062\n",
      "Epoch 55/100\n",
      "50000/50000 [==============================] - 6s 127us/step - loss: 0.5631 - acc: 0.7992 - val_loss: 1.9918 - val_acc: 0.5102\n",
      "Epoch 56/100\n",
      "50000/50000 [==============================] - 6s 124us/step - loss: 0.5462 - acc: 0.8050 - val_loss: 2.0037 - val_acc: 0.5087\n",
      "Epoch 57/100\n",
      "50000/50000 [==============================] - 6s 128us/step - loss: 0.5385 - acc: 0.8059 - val_loss: 1.9698 - val_acc: 0.5105\n",
      "Epoch 58/100\n",
      "50000/50000 [==============================] - 6s 126us/step - loss: 0.5319 - acc: 0.8095 - val_loss: 2.0516 - val_acc: 0.5091\n",
      "Epoch 59/100\n"
     ]
    },
    {
     "name": "stdout",
     "output_type": "stream",
     "text": [
      "50000/50000 [==============================] - 7s 144us/step - loss: 0.5252 - acc: 0.8093 - val_loss: 1.9794 - val_acc: 0.5172\n",
      "Epoch 60/100\n",
      "50000/50000 [==============================] - 7s 148us/step - loss: 0.5094 - acc: 0.8186 - val_loss: 2.0894 - val_acc: 0.5115\n",
      "Epoch 61/100\n",
      "50000/50000 [==============================] - 7s 144us/step - loss: 0.5089 - acc: 0.8176 - val_loss: 2.1204 - val_acc: 0.5014\n",
      "Epoch 62/100\n",
      "50000/50000 [==============================] - 6s 121us/step - loss: 0.4887 - acc: 0.8238 - val_loss: 2.1212 - val_acc: 0.5129\n",
      "Epoch 63/100\n",
      "50000/50000 [==============================] - 6s 124us/step - loss: 0.4724 - acc: 0.8313 - val_loss: 2.1602 - val_acc: 0.5081\n",
      "Epoch 64/100\n",
      "50000/50000 [==============================] - 6s 124us/step - loss: 0.4791 - acc: 0.8294 - val_loss: 2.2109 - val_acc: 0.5038\n",
      "Epoch 65/100\n",
      "50000/50000 [==============================] - 6s 122us/step - loss: 0.4750 - acc: 0.8301 - val_loss: 2.1896 - val_acc: 0.5082\n",
      "Epoch 66/100\n",
      "50000/50000 [==============================] - 6s 122us/step - loss: 0.4424 - acc: 0.8411 - val_loss: 2.3036 - val_acc: 0.5083\n",
      "Epoch 67/100\n",
      "50000/50000 [==============================] - 6s 123us/step - loss: 0.4608 - acc: 0.8329 - val_loss: 2.2754 - val_acc: 0.5068\n",
      "Epoch 68/100\n",
      "50000/50000 [==============================] - 6s 125us/step - loss: 0.4289 - acc: 0.8464 - val_loss: 2.2516 - val_acc: 0.5042\n",
      "Epoch 69/100\n",
      "50000/50000 [==============================] - 6s 123us/step - loss: 0.4315 - acc: 0.8452 - val_loss: 2.2961 - val_acc: 0.5105\n",
      "Epoch 70/100\n",
      "50000/50000 [==============================] - 7s 143us/step - loss: 0.4400 - acc: 0.8417 - val_loss: 2.3019 - val_acc: 0.5136\n",
      "Epoch 71/100\n",
      "50000/50000 [==============================] - 6s 125us/step - loss: 0.4085 - acc: 0.8539 - val_loss: 2.3454 - val_acc: 0.5095\n",
      "Epoch 72/100\n",
      "50000/50000 [==============================] - 7s 137us/step - loss: 0.4010 - acc: 0.8568 - val_loss: 2.3888 - val_acc: 0.5078\n",
      "Epoch 73/100\n",
      "50000/50000 [==============================] - 7s 132us/step - loss: 0.3988 - acc: 0.8559 - val_loss: 2.4849 - val_acc: 0.5032\n",
      "Epoch 74/100\n",
      "50000/50000 [==============================] - 8s 159us/step - loss: 0.3868 - acc: 0.8617 - val_loss: 2.4783 - val_acc: 0.5062\n",
      "Epoch 75/100\n",
      "50000/50000 [==============================] - 7s 150us/step - loss: 0.3964 - acc: 0.8571 - val_loss: 2.4386 - val_acc: 0.5065\n",
      "Epoch 76/100\n",
      "50000/50000 [==============================] - 6s 126us/step - loss: 0.3827 - acc: 0.8635 - val_loss: 2.5204 - val_acc: 0.5072\n",
      "Epoch 77/100\n",
      "50000/50000 [==============================] - 7s 131us/step - loss: 0.3858 - acc: 0.8616 - val_loss: 2.5084 - val_acc: 0.5056\n",
      "Epoch 78/100\n",
      "50000/50000 [==============================] - 6s 126us/step - loss: 0.3939 - acc: 0.8592 - val_loss: 2.5481 - val_acc: 0.5055\n",
      "Epoch 79/100\n",
      "50000/50000 [==============================] - 6s 128us/step - loss: 0.3591 - acc: 0.8708 - val_loss: 2.6452 - val_acc: 0.5029\n",
      "Epoch 80/100\n",
      "50000/50000 [==============================] - 6s 129us/step - loss: 0.3562 - acc: 0.8720 - val_loss: 2.6924 - val_acc: 0.4987\n",
      "Epoch 81/100\n",
      "50000/50000 [==============================] - 6s 129us/step - loss: 0.3628 - acc: 0.8706 - val_loss: 2.7477 - val_acc: 0.4990\n",
      "Epoch 82/100\n",
      "50000/50000 [==============================] - 7s 131us/step - loss: 0.3445 - acc: 0.8757 - val_loss: 2.6847 - val_acc: 0.5038\n",
      "Epoch 83/100\n",
      "50000/50000 [==============================] - 6s 129us/step - loss: 0.3385 - acc: 0.8784 - val_loss: 2.6495 - val_acc: 0.5076\n",
      "Epoch 84/100\n",
      "50000/50000 [==============================] - 6s 130us/step - loss: 0.3452 - acc: 0.8749 - val_loss: 2.7811 - val_acc: 0.4969\n",
      "Epoch 85/100\n",
      "50000/50000 [==============================] - 7s 134us/step - loss: 0.3418 - acc: 0.8774 - val_loss: 2.8207 - val_acc: 0.4929\n",
      "Epoch 86/100\n",
      "50000/50000 [==============================] - 6s 129us/step - loss: 0.3400 - acc: 0.8772 - val_loss: 2.7738 - val_acc: 0.5107\n",
      "Epoch 87/100\n",
      "50000/50000 [==============================] - 7s 130us/step - loss: 0.3168 - acc: 0.8871 - val_loss: 2.8172 - val_acc: 0.5029\n",
      "Epoch 88/100\n",
      "50000/50000 [==============================] - 7s 132us/step - loss: 0.3026 - acc: 0.8938 - val_loss: 2.7864 - val_acc: 0.5133\n",
      "Epoch 89/100\n",
      "50000/50000 [==============================] - 7s 134us/step - loss: 0.3080 - acc: 0.8887 - val_loss: 2.8387 - val_acc: 0.4986\n",
      "Epoch 90/100\n",
      "50000/50000 [==============================] - 7s 130us/step - loss: 0.3029 - acc: 0.8914 - val_loss: 2.9048 - val_acc: 0.5046\n",
      "Epoch 91/100\n",
      "50000/50000 [==============================] - 7s 132us/step - loss: 0.3225 - acc: 0.8841 - val_loss: 2.9524 - val_acc: 0.5007\n",
      "Epoch 92/100\n",
      "50000/50000 [==============================] - 7s 134us/step - loss: 0.3295 - acc: 0.8799 - val_loss: 2.8813 - val_acc: 0.4956\n",
      "Epoch 93/100\n",
      "50000/50000 [==============================] - 7s 133us/step - loss: 0.3106 - acc: 0.8880 - val_loss: 2.9656 - val_acc: 0.4970\n",
      "Epoch 94/100\n",
      "50000/50000 [==============================] - 7s 135us/step - loss: 0.3123 - acc: 0.8869 - val_loss: 2.9708 - val_acc: 0.5041\n",
      "Epoch 95/100\n",
      "50000/50000 [==============================] - 7s 132us/step - loss: 0.2883 - acc: 0.8963 - val_loss: 3.0061 - val_acc: 0.5003\n",
      "Epoch 96/100\n",
      "50000/50000 [==============================] - 7s 133us/step - loss: 0.2683 - acc: 0.9029 - val_loss: 3.0380 - val_acc: 0.5061\n",
      "Epoch 97/100\n",
      "50000/50000 [==============================] - 7s 135us/step - loss: 0.2641 - acc: 0.9055 - val_loss: 3.0719 - val_acc: 0.4979\n",
      "Epoch 98/100\n",
      "50000/50000 [==============================] - 7s 133us/step - loss: 0.2755 - acc: 0.9014 - val_loss: 3.0518 - val_acc: 0.5000\n",
      "Epoch 99/100\n",
      "50000/50000 [==============================] - 7s 135us/step - loss: 0.2907 - acc: 0.8936 - val_loss: 3.1704 - val_acc: 0.4983\n",
      "Epoch 100/100\n",
      "50000/50000 [==============================] - 7s 136us/step - loss: 0.2869 - acc: 0.8971 - val_loss: 3.1619 - val_acc: 0.4831\n"
     ]
    },
    {
     "data": {
      "text/plain": [
       "<keras.callbacks.History at 0xb2d8e7f98>"
      ]
     },
     "execution_count": 9,
     "metadata": {},
     "output_type": "execute_result"
    }
   ],
   "source": [
    "model.fit(x_train, y_train, \n",
    "          epochs=EPOCHS, \n",
    "          batch_size=BATCH_SIZE, \n",
    "          validation_data=(x_test, y_test), \n",
    "          shuffle=True)"
   ]
  },
  {
   "cell_type": "code",
   "execution_count": 11,
   "metadata": {},
   "outputs": [
    {
     "data": {
      "image/png": "[encoded data removed]",
      "text/plain": [
       "<Figure size 432x288 with 1 Axes>"
      ]
     },
     "metadata": {
      "needs_background": "light"
     },
     "output_type": "display_data"
    },
    {
     "data": {
      "image/png": "[encoded data removed]",
      "text/plain": [
       "<Figure size 432x288 with 1 Axes>"
      ]
     },
     "metadata": {
      "needs_background": "light"
     },
     "output_type": "display_data"
    }
   ],
   "source": [
    "import matplotlib.pyplot as plt\n",
    "\n",
    "\n",
    "train_loss = model.history.history[\"loss\"]\n",
    "valid_loss = model.history.history[\"val_loss\"]\n",
    "\n",
    "train_acc = model.history.history[\"acc\"]\n",
    "valid_acc = model.history.history[\"val_acc\"]\n",
    "\n",
    "plt.plot(range(len(train_loss)), train_loss, label=\"train loss\")\n",
    "plt.plot(range(len(valid_loss)), valid_loss, label=\"valid loss\")\n",
    "plt.legend()\n",
    "plt.title(\"Loss\")\n",
    "plt.show()\n",
    "\n",
    "plt.plot(range(len(train_acc)), train_acc, label=\"train accuracy\")\n",
    "plt.plot(range(len(valid_acc)), valid_acc, label=\"valid accuracy\")\n",
    "plt.legend()\n",
    "plt.title(\"Accuracy\")\n",
    "plt.show()"
   ]
  },
  {
   "cell_type": "code",
   "execution_count": null,
   "metadata": {},
   "outputs": [],
   "source": []
  },
  {
   "cell_type": "code",
   "execution_count": null,
   "metadata": {},
   "outputs": [],
   "source": []
  }
 ],
 "metadata": {
  "kernelspec": {
   "display_name": "Python 3",
   "language": "python",
   "name": "python3"
  },
  "language_info": {
   "codemirror_mode": {
    "name": "ipython",
    "version": 3
   },
   "file_extension": ".py",
   "mimetype": "text/x-python",
   "name": "python",
   "nbconvert_exporter": "python",
   "pygments_lexer": "ipython3",
   "version": "3.7.3"
  }
 },
 "nbformat": 4,
 "nbformat_minor": 2
}
